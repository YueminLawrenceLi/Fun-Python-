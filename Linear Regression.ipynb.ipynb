{
 "cells": [
  {
   "cell_type": "markdown",
   "metadata": {},
   "source": [
    "# Auto MPG Project \n",
    "This project consists of two parts. The first is a refresher for python, data loading and manipulation. The second part discusses linear regression"
   ]
  },
  {
   "cell_type": "markdown",
   "metadata": {},
   "source": [
    "Some info on the dataset:\n",
    "\n",
    "The data was extracted from the 1974 Motor Trend US magazine, and comprises fuel consumption and 10 aspects of automobile design and performance for 32 automobiles (1973–74 models).\n",
    "\n",
    "[, 0]\t Model\n",
    "\n",
    "[, 1]\tmpg\tMiles/(US) gallon\n",
    "\n",
    "[, 2]\tcyl\tNumber of cylinders\n",
    "\n",
    "[, 3]\tdisp\tDisplacement (cu.in.)\n",
    "\n",
    "[, 4]\thp\tGross horsepower\n",
    "\n",
    "[, 5]\tdrat\tRear axle ratio\n",
    "\n",
    "[, 6]\twt\tWeight (1000 lbs)\n",
    "\n",
    "[, 7]\tqsec\t1/4 mile time\n",
    "\n",
    "[, 8]\tvs\tEngine (0 = V-shaped, 1 = straight)\n",
    "\n",
    "[, 9]\tam\tTransmission (0 = automatic, 1 = manual)\n",
    "\n",
    "[,10]\tgear\tNumber of forward gears\n",
    "\n",
    "[,11]\tcarb\tNumber of carburetors"
   ]
  },
  {
   "cell_type": "markdown",
   "metadata": {},
   "source": [
    "## 1- Python Refresher\n",
    "Load the dataset `mpg_data` using pandas and display the first five rows and the last two rows"
   ]
  },
  {
   "cell_type": "code",
   "execution_count": 1,
   "metadata": {},
   "outputs": [
    {
     "name": "stdout",
     "output_type": "stream",
     "text": [
      "               model   mpg  cyl   disp   hp  drat     wt   qsec  vs  am  gear  \\\n",
      "0          Mazda RX4  21.0    6  160.0  110  3.90  2.620  16.46   0   1     4   \n",
      "1      Mazda RX4 Wag  21.0    6  160.0  110  3.90  2.875  17.02   0   1     4   \n",
      "2         Datsun 710  22.8    4  108.0   93  3.85  2.320  18.61   1   1     4   \n",
      "3     Hornet 4 Drive  21.4    6  258.0  110  3.08  3.215  19.44   1   0     3   \n",
      "4  Hornet Sportabout  18.7    8  360.0  175  3.15  3.440  17.02   0   0     3   \n",
      "\n",
      "   carb  \n",
      "0     4  \n",
      "1     4  \n",
      "2     1  \n",
      "3     1  \n",
      "4     2  \n",
      "            model   mpg  cyl   disp   hp  drat    wt  qsec  vs  am  gear  carb\n",
      "30  Maserati Bora  15.0    8  301.0  335  3.54  3.57  14.6   0   1     5     8\n",
      "31     Volvo 142E  21.4    4  121.0  109  4.11  2.78  18.6   1   1     4     2\n"
     ]
    }
   ],
   "source": [
    "# Solve Here\n",
    "import numpy as np\n",
    "import pandas as pd\n",
    "# read the file\n",
    "mpg_data = pd.read_csv('mpg_data.csv')\n",
    "print(mpg_data.head())\n",
    "print(mpg_data.tail(2))"
   ]
  },
  {
   "cell_type": "markdown",
   "metadata": {},
   "source": [
    "Calculate the mean and the variance for each of the columns"
   ]
  },
  {
   "cell_type": "code",
   "execution_count": 4,
   "metadata": {},
   "outputs": [
    {
     "name": "stdout",
     "output_type": "stream",
     "text": [
      "mean of mpg_data \n",
      " mpg      20.090625\n",
      "cyl       6.187500\n",
      "disp    230.721875\n",
      "hp      146.687500\n",
      "drat      3.596563\n",
      "wt        3.217250\n",
      "qsec     17.848750\n",
      "vs        0.437500\n",
      "am        0.406250\n",
      "gear      3.687500\n",
      "carb      2.812500\n",
      "dtype: float64\n",
      "variance of mpg_data\n",
      " mpg        35.188975\n",
      "cyl         3.089844\n",
      "disp    14880.774834\n",
      "hp       4553.964844\n",
      "drat        0.276948\n",
      "wt          0.927461\n",
      "qsec        3.093380\n",
      "vs          0.246094\n",
      "am          0.241211\n",
      "gear        0.527344\n",
      "carb        2.527344\n",
      "dtype: float64\n"
     ]
    }
   ],
   "source": [
    "# Solve Here\n",
    "print('mean of mpg_data \\n', np.mean(mpg_data))\n",
    "print('variance of mpg_data\\n',np.var(mpg_data))"
   ]
  },
  {
   "cell_type": "markdown",
   "metadata": {},
   "source": [
    "The first column is called model. Although being called model, it contains the make and the model of the car. I would like you to find the average for all the columns grouped by the car make. Hint, the car make is the first word in the model column"
   ]
  },
  {
   "cell_type": "code",
   "execution_count": 14,
   "metadata": {},
   "outputs": [
    {
     "data": {
      "text/html": [
       "<div>\n",
       "<style scoped>\n",
       "    .dataframe tbody tr th:only-of-type {\n",
       "        vertical-align: middle;\n",
       "    }\n",
       "\n",
       "    .dataframe tbody tr th {\n",
       "        vertical-align: top;\n",
       "    }\n",
       "\n",
       "    .dataframe thead th {\n",
       "        text-align: right;\n",
       "    }\n",
       "</style>\n",
       "<table border=\"1\" class=\"dataframe\">\n",
       "  <thead>\n",
       "    <tr style=\"text-align: right;\">\n",
       "      <th></th>\n",
       "      <th>mpg</th>\n",
       "      <th>cyl</th>\n",
       "      <th>disp</th>\n",
       "      <th>hp</th>\n",
       "      <th>drat</th>\n",
       "      <th>wt</th>\n",
       "      <th>qsec</th>\n",
       "      <th>vs</th>\n",
       "      <th>am</th>\n",
       "      <th>gear</th>\n",
       "      <th>carb</th>\n",
       "    </tr>\n",
       "    <tr>\n",
       "      <th>make</th>\n",
       "      <th></th>\n",
       "      <th></th>\n",
       "      <th></th>\n",
       "      <th></th>\n",
       "      <th></th>\n",
       "      <th></th>\n",
       "      <th></th>\n",
       "      <th></th>\n",
       "      <th></th>\n",
       "      <th></th>\n",
       "      <th></th>\n",
       "    </tr>\n",
       "  </thead>\n",
       "  <tbody>\n",
       "    <tr>\n",
       "      <th>AMC</th>\n",
       "      <td>15.200000</td>\n",
       "      <td>8.000000</td>\n",
       "      <td>304.000000</td>\n",
       "      <td>150.000000</td>\n",
       "      <td>3.150000</td>\n",
       "      <td>3.435000</td>\n",
       "      <td>17.300000</td>\n",
       "      <td>0.000000</td>\n",
       "      <td>0.0</td>\n",
       "      <td>3.000000</td>\n",
       "      <td>2.0</td>\n",
       "    </tr>\n",
       "    <tr>\n",
       "      <th>Cadillac</th>\n",
       "      <td>10.400000</td>\n",
       "      <td>8.000000</td>\n",
       "      <td>472.000000</td>\n",
       "      <td>205.000000</td>\n",
       "      <td>2.930000</td>\n",
       "      <td>5.250000</td>\n",
       "      <td>17.980000</td>\n",
       "      <td>0.000000</td>\n",
       "      <td>0.0</td>\n",
       "      <td>3.000000</td>\n",
       "      <td>4.0</td>\n",
       "    </tr>\n",
       "    <tr>\n",
       "      <th>Camaro</th>\n",
       "      <td>13.300000</td>\n",
       "      <td>8.000000</td>\n",
       "      <td>350.000000</td>\n",
       "      <td>245.000000</td>\n",
       "      <td>3.730000</td>\n",
       "      <td>3.840000</td>\n",
       "      <td>15.410000</td>\n",
       "      <td>0.000000</td>\n",
       "      <td>0.0</td>\n",
       "      <td>3.000000</td>\n",
       "      <td>4.0</td>\n",
       "    </tr>\n",
       "    <tr>\n",
       "      <th>Chrysler</th>\n",
       "      <td>14.700000</td>\n",
       "      <td>8.000000</td>\n",
       "      <td>440.000000</td>\n",
       "      <td>230.000000</td>\n",
       "      <td>3.230000</td>\n",
       "      <td>5.345000</td>\n",
       "      <td>17.420000</td>\n",
       "      <td>0.000000</td>\n",
       "      <td>0.0</td>\n",
       "      <td>3.000000</td>\n",
       "      <td>4.0</td>\n",
       "    </tr>\n",
       "    <tr>\n",
       "      <th>Datsun</th>\n",
       "      <td>22.800000</td>\n",
       "      <td>4.000000</td>\n",
       "      <td>108.000000</td>\n",
       "      <td>93.000000</td>\n",
       "      <td>3.850000</td>\n",
       "      <td>2.320000</td>\n",
       "      <td>18.610000</td>\n",
       "      <td>1.000000</td>\n",
       "      <td>1.0</td>\n",
       "      <td>4.000000</td>\n",
       "      <td>1.0</td>\n",
       "    </tr>\n",
       "    <tr>\n",
       "      <th>Dodge</th>\n",
       "      <td>15.500000</td>\n",
       "      <td>8.000000</td>\n",
       "      <td>318.000000</td>\n",
       "      <td>150.000000</td>\n",
       "      <td>2.760000</td>\n",
       "      <td>3.520000</td>\n",
       "      <td>16.870000</td>\n",
       "      <td>0.000000</td>\n",
       "      <td>0.0</td>\n",
       "      <td>3.000000</td>\n",
       "      <td>2.0</td>\n",
       "    </tr>\n",
       "    <tr>\n",
       "      <th>Duster</th>\n",
       "      <td>14.300000</td>\n",
       "      <td>8.000000</td>\n",
       "      <td>360.000000</td>\n",
       "      <td>245.000000</td>\n",
       "      <td>3.210000</td>\n",
       "      <td>3.570000</td>\n",
       "      <td>15.840000</td>\n",
       "      <td>0.000000</td>\n",
       "      <td>0.0</td>\n",
       "      <td>3.000000</td>\n",
       "      <td>4.0</td>\n",
       "    </tr>\n",
       "    <tr>\n",
       "      <th>Ferrari</th>\n",
       "      <td>19.700000</td>\n",
       "      <td>6.000000</td>\n",
       "      <td>145.000000</td>\n",
       "      <td>175.000000</td>\n",
       "      <td>3.620000</td>\n",
       "      <td>2.770000</td>\n",
       "      <td>15.500000</td>\n",
       "      <td>0.000000</td>\n",
       "      <td>1.0</td>\n",
       "      <td>5.000000</td>\n",
       "      <td>6.0</td>\n",
       "    </tr>\n",
       "    <tr>\n",
       "      <th>Fiat</th>\n",
       "      <td>29.850000</td>\n",
       "      <td>4.000000</td>\n",
       "      <td>78.850000</td>\n",
       "      <td>66.000000</td>\n",
       "      <td>4.080000</td>\n",
       "      <td>2.067500</td>\n",
       "      <td>19.185000</td>\n",
       "      <td>1.000000</td>\n",
       "      <td>1.0</td>\n",
       "      <td>4.000000</td>\n",
       "      <td>1.0</td>\n",
       "    </tr>\n",
       "    <tr>\n",
       "      <th>Ford</th>\n",
       "      <td>15.800000</td>\n",
       "      <td>8.000000</td>\n",
       "      <td>351.000000</td>\n",
       "      <td>264.000000</td>\n",
       "      <td>4.220000</td>\n",
       "      <td>3.170000</td>\n",
       "      <td>14.500000</td>\n",
       "      <td>0.000000</td>\n",
       "      <td>1.0</td>\n",
       "      <td>5.000000</td>\n",
       "      <td>4.0</td>\n",
       "    </tr>\n",
       "    <tr>\n",
       "      <th>Honda</th>\n",
       "      <td>30.400000</td>\n",
       "      <td>4.000000</td>\n",
       "      <td>75.700000</td>\n",
       "      <td>52.000000</td>\n",
       "      <td>4.930000</td>\n",
       "      <td>1.615000</td>\n",
       "      <td>18.520000</td>\n",
       "      <td>1.000000</td>\n",
       "      <td>1.0</td>\n",
       "      <td>4.000000</td>\n",
       "      <td>2.0</td>\n",
       "    </tr>\n",
       "    <tr>\n",
       "      <th>Hornet</th>\n",
       "      <td>20.050000</td>\n",
       "      <td>7.000000</td>\n",
       "      <td>309.000000</td>\n",
       "      <td>142.500000</td>\n",
       "      <td>3.115000</td>\n",
       "      <td>3.327500</td>\n",
       "      <td>18.230000</td>\n",
       "      <td>0.500000</td>\n",
       "      <td>0.0</td>\n",
       "      <td>3.000000</td>\n",
       "      <td>1.5</td>\n",
       "    </tr>\n",
       "    <tr>\n",
       "      <th>Lincoln</th>\n",
       "      <td>10.400000</td>\n",
       "      <td>8.000000</td>\n",
       "      <td>460.000000</td>\n",
       "      <td>215.000000</td>\n",
       "      <td>3.000000</td>\n",
       "      <td>5.424000</td>\n",
       "      <td>17.820000</td>\n",
       "      <td>0.000000</td>\n",
       "      <td>0.0</td>\n",
       "      <td>3.000000</td>\n",
       "      <td>4.0</td>\n",
       "    </tr>\n",
       "    <tr>\n",
       "      <th>Lotus</th>\n",
       "      <td>30.400000</td>\n",
       "      <td>4.000000</td>\n",
       "      <td>95.100000</td>\n",
       "      <td>113.000000</td>\n",
       "      <td>3.770000</td>\n",
       "      <td>1.513000</td>\n",
       "      <td>16.900000</td>\n",
       "      <td>1.000000</td>\n",
       "      <td>1.0</td>\n",
       "      <td>5.000000</td>\n",
       "      <td>2.0</td>\n",
       "    </tr>\n",
       "    <tr>\n",
       "      <th>Maserati</th>\n",
       "      <td>15.000000</td>\n",
       "      <td>8.000000</td>\n",
       "      <td>301.000000</td>\n",
       "      <td>335.000000</td>\n",
       "      <td>3.540000</td>\n",
       "      <td>3.570000</td>\n",
       "      <td>14.600000</td>\n",
       "      <td>0.000000</td>\n",
       "      <td>1.0</td>\n",
       "      <td>5.000000</td>\n",
       "      <td>8.0</td>\n",
       "    </tr>\n",
       "    <tr>\n",
       "      <th>Mazda</th>\n",
       "      <td>21.000000</td>\n",
       "      <td>6.000000</td>\n",
       "      <td>160.000000</td>\n",
       "      <td>110.000000</td>\n",
       "      <td>3.900000</td>\n",
       "      <td>2.747500</td>\n",
       "      <td>16.740000</td>\n",
       "      <td>0.000000</td>\n",
       "      <td>1.0</td>\n",
       "      <td>4.000000</td>\n",
       "      <td>4.0</td>\n",
       "    </tr>\n",
       "    <tr>\n",
       "      <th>Merc</th>\n",
       "      <td>19.014286</td>\n",
       "      <td>6.285714</td>\n",
       "      <td>207.157143</td>\n",
       "      <td>134.714286</td>\n",
       "      <td>3.522857</td>\n",
       "      <td>3.542857</td>\n",
       "      <td>19.014286</td>\n",
       "      <td>0.571429</td>\n",
       "      <td>0.0</td>\n",
       "      <td>3.571429</td>\n",
       "      <td>3.0</td>\n",
       "    </tr>\n",
       "    <tr>\n",
       "      <th>Pontiac</th>\n",
       "      <td>19.200000</td>\n",
       "      <td>8.000000</td>\n",
       "      <td>400.000000</td>\n",
       "      <td>175.000000</td>\n",
       "      <td>3.080000</td>\n",
       "      <td>3.845000</td>\n",
       "      <td>17.050000</td>\n",
       "      <td>0.000000</td>\n",
       "      <td>0.0</td>\n",
       "      <td>3.000000</td>\n",
       "      <td>2.0</td>\n",
       "    </tr>\n",
       "    <tr>\n",
       "      <th>Porsche</th>\n",
       "      <td>26.000000</td>\n",
       "      <td>4.000000</td>\n",
       "      <td>120.300000</td>\n",
       "      <td>91.000000</td>\n",
       "      <td>4.430000</td>\n",
       "      <td>2.140000</td>\n",
       "      <td>16.700000</td>\n",
       "      <td>0.000000</td>\n",
       "      <td>1.0</td>\n",
       "      <td>5.000000</td>\n",
       "      <td>2.0</td>\n",
       "    </tr>\n",
       "    <tr>\n",
       "      <th>Toyota</th>\n",
       "      <td>27.700000</td>\n",
       "      <td>4.000000</td>\n",
       "      <td>95.600000</td>\n",
       "      <td>81.000000</td>\n",
       "      <td>3.960000</td>\n",
       "      <td>2.150000</td>\n",
       "      <td>19.955000</td>\n",
       "      <td>1.000000</td>\n",
       "      <td>0.5</td>\n",
       "      <td>3.500000</td>\n",
       "      <td>1.0</td>\n",
       "    </tr>\n",
       "    <tr>\n",
       "      <th>Valiant</th>\n",
       "      <td>18.100000</td>\n",
       "      <td>6.000000</td>\n",
       "      <td>225.000000</td>\n",
       "      <td>105.000000</td>\n",
       "      <td>2.760000</td>\n",
       "      <td>3.460000</td>\n",
       "      <td>20.220000</td>\n",
       "      <td>1.000000</td>\n",
       "      <td>0.0</td>\n",
       "      <td>3.000000</td>\n",
       "      <td>1.0</td>\n",
       "    </tr>\n",
       "    <tr>\n",
       "      <th>Volvo</th>\n",
       "      <td>21.400000</td>\n",
       "      <td>4.000000</td>\n",
       "      <td>121.000000</td>\n",
       "      <td>109.000000</td>\n",
       "      <td>4.110000</td>\n",
       "      <td>2.780000</td>\n",
       "      <td>18.600000</td>\n",
       "      <td>1.000000</td>\n",
       "      <td>1.0</td>\n",
       "      <td>4.000000</td>\n",
       "      <td>2.0</td>\n",
       "    </tr>\n",
       "  </tbody>\n",
       "</table>\n",
       "</div>"
      ],
      "text/plain": [
       "                mpg       cyl        disp          hp      drat        wt  \\\n",
       "make                                                                        \n",
       "AMC       15.200000  8.000000  304.000000  150.000000  3.150000  3.435000   \n",
       "Cadillac  10.400000  8.000000  472.000000  205.000000  2.930000  5.250000   \n",
       "Camaro    13.300000  8.000000  350.000000  245.000000  3.730000  3.840000   \n",
       "Chrysler  14.700000  8.000000  440.000000  230.000000  3.230000  5.345000   \n",
       "Datsun    22.800000  4.000000  108.000000   93.000000  3.850000  2.320000   \n",
       "Dodge     15.500000  8.000000  318.000000  150.000000  2.760000  3.520000   \n",
       "Duster    14.300000  8.000000  360.000000  245.000000  3.210000  3.570000   \n",
       "Ferrari   19.700000  6.000000  145.000000  175.000000  3.620000  2.770000   \n",
       "Fiat      29.850000  4.000000   78.850000   66.000000  4.080000  2.067500   \n",
       "Ford      15.800000  8.000000  351.000000  264.000000  4.220000  3.170000   \n",
       "Honda     30.400000  4.000000   75.700000   52.000000  4.930000  1.615000   \n",
       "Hornet    20.050000  7.000000  309.000000  142.500000  3.115000  3.327500   \n",
       "Lincoln   10.400000  8.000000  460.000000  215.000000  3.000000  5.424000   \n",
       "Lotus     30.400000  4.000000   95.100000  113.000000  3.770000  1.513000   \n",
       "Maserati  15.000000  8.000000  301.000000  335.000000  3.540000  3.570000   \n",
       "Mazda     21.000000  6.000000  160.000000  110.000000  3.900000  2.747500   \n",
       "Merc      19.014286  6.285714  207.157143  134.714286  3.522857  3.542857   \n",
       "Pontiac   19.200000  8.000000  400.000000  175.000000  3.080000  3.845000   \n",
       "Porsche   26.000000  4.000000  120.300000   91.000000  4.430000  2.140000   \n",
       "Toyota    27.700000  4.000000   95.600000   81.000000  3.960000  2.150000   \n",
       "Valiant   18.100000  6.000000  225.000000  105.000000  2.760000  3.460000   \n",
       "Volvo     21.400000  4.000000  121.000000  109.000000  4.110000  2.780000   \n",
       "\n",
       "               qsec        vs   am      gear  carb  \n",
       "make                                                \n",
       "AMC       17.300000  0.000000  0.0  3.000000   2.0  \n",
       "Cadillac  17.980000  0.000000  0.0  3.000000   4.0  \n",
       "Camaro    15.410000  0.000000  0.0  3.000000   4.0  \n",
       "Chrysler  17.420000  0.000000  0.0  3.000000   4.0  \n",
       "Datsun    18.610000  1.000000  1.0  4.000000   1.0  \n",
       "Dodge     16.870000  0.000000  0.0  3.000000   2.0  \n",
       "Duster    15.840000  0.000000  0.0  3.000000   4.0  \n",
       "Ferrari   15.500000  0.000000  1.0  5.000000   6.0  \n",
       "Fiat      19.185000  1.000000  1.0  4.000000   1.0  \n",
       "Ford      14.500000  0.000000  1.0  5.000000   4.0  \n",
       "Honda     18.520000  1.000000  1.0  4.000000   2.0  \n",
       "Hornet    18.230000  0.500000  0.0  3.000000   1.5  \n",
       "Lincoln   17.820000  0.000000  0.0  3.000000   4.0  \n",
       "Lotus     16.900000  1.000000  1.0  5.000000   2.0  \n",
       "Maserati  14.600000  0.000000  1.0  5.000000   8.0  \n",
       "Mazda     16.740000  0.000000  1.0  4.000000   4.0  \n",
       "Merc      19.014286  0.571429  0.0  3.571429   3.0  \n",
       "Pontiac   17.050000  0.000000  0.0  3.000000   2.0  \n",
       "Porsche   16.700000  0.000000  1.0  5.000000   2.0  \n",
       "Toyota    19.955000  1.000000  0.5  3.500000   1.0  \n",
       "Valiant   20.220000  1.000000  0.0  3.000000   1.0  \n",
       "Volvo     18.600000  1.000000  1.0  4.000000   2.0  "
      ]
     },
     "execution_count": 14,
     "metadata": {},
     "output_type": "execute_result"
    }
   ],
   "source": [
    "# Solve Here\n",
    "mpg_data['make'] = mpg_data.model.str.split(' ',expand = True)[0] # split the data and generates new columns. Take the first column as the make\n",
    "mpg_data.groupby(by=['make']).mean()"
   ]
  },
  {
   "cell_type": "markdown",
   "metadata": {},
   "source": [
    "Check if there is any duplications and nan in the dataset"
   ]
  },
  {
   "cell_type": "code",
   "execution_count": 21,
   "metadata": {},
   "outputs": [
    {
     "name": "stdout",
     "output_type": "stream",
     "text": [
      "Nans per columns: \n",
      "\n",
      "model    0\n",
      "mpg      0\n",
      "cyl      0\n",
      "disp     0\n",
      "hp       0\n",
      "drat     0\n",
      "wt       0\n",
      "qsec     0\n",
      "vs       0\n",
      "am       0\n",
      "gear     0\n",
      "carb     0\n",
      "make     0\n",
      "dtype: int64\n",
      "number of duplicates = 0\n"
     ]
    }
   ],
   "source": [
    "# Solve Here\n",
    "print('Nans per columns: \\n')\n",
    "print(mpg_data.isna().sum()) \n",
    "print('number of duplicates =', mpg_data.duplicated().sum())"
   ]
  },
  {
   "cell_type": "markdown",
   "metadata": {},
   "source": [
    "## 2- Linear Regression\n",
    "In this section we will do linear regression on the data given to us. First, we start by showing some plots"
   ]
  },
  {
   "cell_type": "markdown",
   "metadata": {},
   "source": [
    "refresh how we can do scatter plots in python. Now do a scatter plot for mpg and disp where mpg is on the y axis and disp is the x axis. Do you see strong relationship between them? explain"
   ]
  },
  {
   "cell_type": "code",
   "execution_count": 23,
   "metadata": {},
   "outputs": [
    {
     "data": {
      "text/plain": [
       "<matplotlib.collections.PathCollection at 0x11c367be0>"
      ]
     },
     "execution_count": 23,
     "metadata": {},
     "output_type": "execute_result"
    },
    {
     "data": {
      "image/png": "[encoded data removed]",
      "text/plain": [
       "<Figure size 432x288 with 1 Axes>"
      ]
     },
     "metadata": {
      "needs_background": "light"
     },
     "output_type": "display_data"
    }
   ],
   "source": [
    "# Solve and Comment Here\n",
    "import matplotlib.pyplot as plt\n",
    "%matplotlib inline\n",
    "plt.scatter(mpg_data.disp, mpg_data.mpg)\n",
    "# It looks like there is some negative correlation and it looks that it can be modeled as linear (line)"
   ]
  },
  {
   "cell_type": "markdown",
   "metadata": {},
   "source": [
    "Build your own linear regression as we did in the lecture to calculate the coefficients and intercept that minimizes the lease square error when predicting mpg using disp. What are the values for the coefficients and intercept"
   ]
  },
  {
   "cell_type": "code",
   "execution_count": 52,
   "metadata": {},
   "outputs": [
    {
     "name": "stdout",
     "output_type": "stream",
     "text": [
      "coefficient and bias are : -0.04257061162794969 30.000019645238638\n"
     ]
    },
    {
     "data": {
      "text/plain": [
       "[<matplotlib.lines.Line2D at 0x1217bc320>]"
      ]
     },
     "execution_count": 52,
     "metadata": {},
     "output_type": "execute_result"
    },
    {
     "data": {
      "image/png": "[encoded data removed]",
      "text/plain": [
       "<Figure size 432x288 with 1 Axes>"
      ]
     },
     "metadata": {
      "needs_background": "light"
     },
     "output_type": "display_data"
    }
   ],
   "source": [
    "# Solve Here\n",
    "# create a prediction function\n",
    "def predict(feature, w, bias): # outcome is predicted value based on feature, weight, and bias\n",
    "    predicted = w * feature + bias\n",
    "    return predicted\n",
    "\n",
    "# true_vals and predicted_vals typically have same length\n",
    "# returns the error\n",
    "def cost_function(truth, predicted):\n",
    "    err = sum((truth-predicted)**2)/len(truth)\n",
    "    return err\n",
    "\n",
    "# returns the new weight and bias based on the derivatives\n",
    "def update_weights(features,truth,weight,bias,alpha):\n",
    "    deriv_w = sum((truth-(features*weight+bias))*features)*-2/len(features) # w_prime\n",
    "    deriv_b = sum(truth-(features*weight+bias))*-2/len(features) # b_prime\n",
    "    new_w = weight - alpha*deriv_w\n",
    "    new_b = bias - alpha*deriv_b\n",
    "    return new_w, new_b\n",
    "\n",
    "# training for the proper weight and bias with iterations\n",
    "def train(features,truth,weight,bias,alpha,iterations):\n",
    "    cost_history = []\n",
    "    for i in range(iterations):\n",
    "        weight, bias = update_weights(features,truth,weight,bias,alpha)\n",
    "        pred = predict(features,weight,bias)\n",
    "        cost = cost_function(truth,pred)\n",
    "        cost_history.append(cost)\n",
    "    return weight, bias, cost_history\n",
    "\n",
    "X, y = mpg_data['disp'], mpg_data['mpg']\n",
    "# X_train, X_test, y_train, y_test = train_test_split(X, y, train_size = 0.8)\n",
    "\n",
    "w, b, c = train(X, y, -0.1, 30, 0.00001, 100)\n",
    "\n",
    "# plot the cost function\n",
    "print('coefficient and bias are :',w,b)\n",
    "plt.plot(c)"
   ]
  },
  {
   "cell_type": "markdown",
   "metadata": {},
   "source": [
    "Check if you get the same using sklearn linear regression model"
   ]
  },
  {
   "cell_type": "code",
   "execution_count": 53,
   "metadata": {},
   "outputs": [
    {
     "name": "stdout",
     "output_type": "stream",
     "text": [
      "coefficient and bias are : -0.04121511996278612 29.599854756163946\n"
     ]
    }
   ],
   "source": [
    "# Solve Here\n",
    "from sklearn.linear_model import LinearRegression\n",
    "from sklearn.model_selection import train_test_split\n",
    "model = LinearRegression() # create the model\n",
    "model.fit(X.to_frame(), y) # fit the model\n",
    "print('coefficient and bias are :',model.coef_[0],model.intercept_) # print w and b\n",
    "# they are slightly different"
   ]
  },
  {
   "cell_type": "markdown",
   "metadata": {},
   "source": [
    "Make a variable  called my_own_disp that goes between 100 and 500 with a step of 1. Use the variable and the coefficients calculated from the linear regression model to calculate the pred of mpg at each value of my_own_disp. Remember the equation pred=w0+w1*x. Plot the resulted line along with the scatter plot you plotted earlier and see if that is a good fit"
   ]
  },
  {
   "cell_type": "code",
   "execution_count": 56,
   "metadata": {},
   "outputs": [
    {
     "data": {
      "text/plain": [
       "<matplotlib.legend.Legend at 0x121488cf8>"
      ]
     },
     "execution_count": 56,
     "metadata": {},
     "output_type": "execute_result"
    },
    {
     "data": {
      "image/png": "[encoded data removed]",
      "text/plain": [
       "<Figure size 432x288 with 1 Axes>"
      ]
     },
     "metadata": {
      "needs_background": "light"
     },
     "output_type": "display_data"
    }
   ],
   "source": [
    "# Solve Here\n",
    "my_own_disp = np.arange(100,500)\n",
    "pred1 = predict(my_own_disp, model.coef_[0], model.intercept_)  # from sklearn\n",
    "pred2 = predict(my_own_disp, w, b)  # from our own code\n",
    "\n",
    "# plot the regression \n",
    "plt.scatter(mpg_data.disp, mpg_data.mpg)\n",
    "plt.plot(my_own_disp,pred1)\n",
    "plt.plot(my_own_disp,pred2,'r')\n",
    "plt.legend(['Sklearn', 'our own'])"
   ]
  },
  {
   "cell_type": "markdown",
   "metadata": {},
   "source": [
    "Do a scatter plot between mpg and each of the features other than the model. Can you visually tell which features are more important in calculating the mpg?"
   ]
  },
  {
   "cell_type": "code",
   "execution_count": 57,
   "metadata": {},
   "outputs": [
    {
     "data": {
      "image/png": "[encoded data removed]",
      "text/plain": [
       "<Figure size 1440x1440 with 10 Axes>"
      ]
     },
     "metadata": {
      "needs_background": "light"
     },
     "output_type": "display_data"
    }
   ],
   "source": [
    "# Solve Here\n",
    "plt.figure(figsize=(20,20))\n",
    "for index, feature_name in enumerate(mpg_data.drop(columns=['mpg','model','make'])):\n",
    "    plt.subplot(4,3,index+1)\n",
    "    plt.scatter(mpg_data[feature_name], mpg_data.mpg)\n",
    "    plt.ylabel('mpg', size=15)\n",
    "    plt.xlabel(feature_name, size=15)"
   ]
  },
  {
   "cell_type": "markdown",
   "metadata": {},
   "source": [
    "Now, do a linear regression model using sklearn to fit all the features except the model and predict the mpg. What are the coefficients for each feature? Based on the coefficients, can you tell which features are important? Does it match your expectations from what you have visually seen?"
   ]
  },
  {
   "cell_type": "code",
   "execution_count": 62,
   "metadata": {},
   "outputs": [
    {
     "name": "stdout",
     "output_type": "stream",
     "text": [
      "coefficient and bias are : [-0.19588953  1.626723   -1.44967936  0.4142235  -3.57801491  1.444047\n",
      "  0.15763526  1.23776483  0.47595069 -0.31702919] and 20.090625000000006\n"
     ]
    },
    {
     "name": "stderr",
     "output_type": "stream",
     "text": [
      "/anaconda3/lib/python3.6/site-packages/sklearn/preprocessing/data.py:625: DataConversionWarning: Data with input dtype int64, float64 were all converted to float64 by StandardScaler.\n",
      "  return self.partial_fit(X, y)\n",
      "/anaconda3/lib/python3.6/site-packages/ipykernel_launcher.py:6: DataConversionWarning: Data with input dtype int64, float64 were all converted to float64 by StandardScaler.\n",
      "  \n"
     ]
    },
    {
     "data": {
      "text/plain": [
       "<BarContainer object of 10 artists>"
      ]
     },
     "execution_count": 62,
     "metadata": {},
     "output_type": "execute_result"
    },
    {
     "data": {
      "image/png": "[encoded data removed]",
      "text/plain": [
       "<Figure size 432x288 with 1 Axes>"
      ]
     },
     "metadata": {
      "needs_background": "light"
     },
     "output_type": "display_data"
    }
   ],
   "source": [
    "# Solve and Comment Here\n",
    "# First we scale the data and normalize it as there are many features and each has different range\n",
    "from sklearn.preprocessing import StandardScaler\n",
    "x=mpg_data.drop(columns=['mpg','model','make'])\n",
    "scaler=StandardScaler().fit(x)\n",
    "x_scaled=scaler.transform(x)\n",
    "\n",
    "# build and fit model with scaled data\n",
    "model_multi = LinearRegression().fit(x_scaled,mpg_data.mpg)  # fit the scaled data with MPG\n",
    "# display coefficients/weights of all features\n",
    "print('coefficient and bias are :',model_multi.coef_,'and', model_multi.intercept_) # print w and b\n",
    "# bar plot to show the importance\n",
    "plt.bar(x.columns, model_multi.coef_)"
   ]
  }
 ],
 "metadata": {
  "kernelspec": {
   "display_name": "Python 3",
   "language": "python",
   "name": "python3"
  },
  "language_info": {
   "codemirror_mode": {
    "name": "ipython",
    "version": 3
   },
   "file_extension": ".py",
   "mimetype": "text/x-python",
   "name": "python",
   "nbconvert_exporter": "python",
   "pygments_lexer": "ipython3",
   "version": "3.7.7"
  }
 },
 "nbformat": 4,
 "nbformat_minor": 4
}
