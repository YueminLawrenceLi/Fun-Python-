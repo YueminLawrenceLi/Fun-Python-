{
 "cells": [
  {
   "cell_type": "markdown",
   "metadata": {},
   "source": [
    "# HW 3"
   ]
  },
  {
   "cell_type": "markdown",
   "metadata": {},
   "source": [
    "## part 1: PlayGround"
   ]
  },
  {
   "cell_type": "markdown",
   "metadata": {},
   "source": [
    "### Q1\n",
    "Go to the playground link\n",
    "Using the gaussian dataset, batch size = 1 and noise to the highest and training size 50% and learning rate = 0.1 . Run a logistic regression model with no regularization for at least 500 epochs. Note the test and training loss. Then run the model with reguralization of L2 with lambda = 0.3. Note the training and test loss. Record and explain what happened\n",
    "\n",
    "helping link:\n",
    "\n",
    "https://playground.tensorflow.org/#activation=relu&batchSize=1&dataset=gauss&regDataset=reg-plane&learningRate=0.1&regularizationRate=0&noise=50&networkShape=&seed=0.16068&showTestData=false&discretize=false&percTrainData=50&x=true&y=true&xTimesY=false&xSquared=false&ySquared=false&cosX=false&sinX=false&cosY=false&sinY=false&collectStats=false&problem=classification&initZero=false&hideText=false"
   ]
  },
  {
   "cell_type": "markdown",
   "metadata": {},
   "source": [
    "**Double click and Answer here**\n",
    "\n",
    "- training loss without regularization = 0.088\n",
    "- test loss without regularization = 0.216\n",
    "- training loss with regularization = 0.093\n",
    "- test loss with regularization = 0.167\n",
    "\n",
    "<font color=\"blue\">explanation: You can see that without regularization as you run more epochs the training loss decrease while the test loss increase. That means that the model is overfitting. After adding L2 regularization, you can see that the overfitting was reduced. The test loss got better while the training loss got slightly worse. When your lambda is too high, the model will underfit. When your lambda is too low, L2 becomes ineffective and the model goes back to overfitting\n",
    "</font>\n",
    "\n"
   ]
  },
  {
   "cell_type": "markdown",
   "metadata": {},
   "source": [
    "Experiment with the regularization rate. What is the good/acceptable range in this current situation for lambda?"
   ]
  },
  {
   "cell_type": "markdown",
   "metadata": {},
   "source": [
    "**Double Click and Answer here**\n",
    "- range is:  0.001-0.3"
   ]
  },
  {
   "cell_type": "markdown",
   "metadata": {},
   "source": [
    "### Q2"
   ]
  },
  {
   "cell_type": "markdown",
   "metadata": {},
   "source": [
    "Let's try some neural nets. Using the XOR (exclusive or) dataset,  we found out in the lecture that just simple logistic regression is not good enough to fit the data. Using similar parameters as Q1 with xor dataset, try a neural network with one hidden layer and 4 neurons and no regularization and linear activation function. Run the model for at least 500 iterations. Does the model work? why?"
   ]
  },
  {
   "cell_type": "markdown",
   "metadata": {},
   "source": [
    "**answer here**\n",
    "\n",
    "<font color=\"blue\">\n",
    "The model does not work. Both the test loss the training loss are over 0.5, Hence it is underfitting. That is because, the data set is not in a linear pattern so it would be almost impossible for a linear model with linear features to predict the outcomes and thus there is a high loss. "
   ]
  },
  {
   "cell_type": "markdown",
   "metadata": {},
   "source": [
    "Change activation to Sigmoid. Is it better? Why?\n",
    "\n",
    "if needed change the learning rate\n"
   ]
  },
  {
   "cell_type": "markdown",
   "metadata": {},
   "source": [
    "**answer here**\n",
    "\n",
    "\n",
    "<font color=\"blue\">By changing the activation function to Sigmoid we introduce the required non linearity to process the XOR dataset. This results in a much better training and test loss. A slower learning rate is needed maybe  0.1 or less"
   ]
  },
  {
   "cell_type": "markdown",
   "metadata": {},
   "source": [
    "## Q3\n",
    "Let's do another neural network but this time to detect spiral data. Watch this video from the creators of tensorflow playground https://youtu.be/sxHjS1PbO8M and do the excercise along with the instructor.\n",
    "\n",
    "write a report of three paragraphs. The report should highlight what you understood from the video about neural nets behaviors and the best practices to enhance your model performance. Highlight some surprising facts or new information that you did not know prior to watching this video"
   ]
  },
  {
   "cell_type": "markdown",
   "metadata": {},
   "source": [
    "**Your Report Here**\n",
    "\n",
    "<font color=\"blue\">\n",
    "    \n",
    "The video highlights different behaviours and best practices that can be followed when working with Neural Networks. \n",
    "\n",
    "Following are the behaviors of Neural Networks highlighted in the video:\n",
    "- Spiral dataset when used with linear features, no regularization and a learning rate of 0.1 does not perform well. Even ith 2500+ iterations the test loss is above 50%.\n",
    "- When designing a Neural Network adding too many nodes in a graph can complicate and slow down the model without any gain. It also impact readability of the model.\n",
    "- Reducing the learning rate helps make the loss curve smoother for the model. Higher learning rate can lead to issues in converging.\n",
    "- Regularization penalizes complex models and overfitting.\n",
    "- Smaller batch size of the model slows the training speed of the model while larger model size may lead to trouble converging.\n",
    "- With more complex features the first layer of Neural network tends to learn more complex patterns than simple lines.\n",
    "- Adding more complex features allows the model to learn at a faster pace.\n",
    "\n",
    "Following are the best practices of Neural Networks highlighted in the video:\n",
    "- Try and keep the number of nodes in the graph as small as possible.\n",
    "- Make the loss curve as smooth as possible.\n",
    "- Add regularization to reduce overfitting and smoothing loss curve.\n",
    "- Modify batch size of the model to find the best size of the model under question.\n",
    "- If the data set has a higher level of noise then feature engineering will provide better output than any tuning made to the parameters.\n",
    "- With complex features reduce the number of layers and nodes(reduce complexity) to reduce overfitting and generating a better fit of the model.\n",
    "\n",
    "Surprising facts found:\n",
    "- Reducing complexity of the neural network helps the model become better.\n",
    "- Feature engineering can help better than any parameter tuning."
   ]
  },
  {
   "cell_type": "markdown",
   "metadata": {},
   "source": [
    "## Q4: Activation functions\n",
    "If you answer Q2 correctly, then you understand by now why do we need non linear activation functions such as RELU, Sigmoid, Tanh, .. etc. Read the following two articles to understand more about a famous problem in neural networks called the vanishing gradients and the advantages of different activation functions\n",
    "- https://towardsdatascience.com/the-vanishing-gradient-problem-69bf08b15484\n",
    "- https://towardsdatascience.com/activation-functions-and-its-types-which-is-better-a9a5310cc8f"
   ]
  },
  {
   "cell_type": "markdown",
   "metadata": {},
   "source": [
    "The following code is an example I wrote for you to show you how can you plot the tanh activation function and its derivative. Follow the same example to plot both the activation function for RELU, Sigmoid and LeakyReLU. Highlight the advantages and disadvantages of each. Some google search maybe required :)"
   ]
  },
  {
   "cell_type": "markdown",
   "metadata": {},
   "source": [
    "# Tanh"
   ]
  },
  {
   "cell_type": "code",
   "execution_count": 3,
   "metadata": {},
   "outputs": [
    {
     "data": {
      "text/plain": [
       "<matplotlib.legend.Legend at 0x105afa080>"
      ]
     },
     "execution_count": 3,
     "metadata": {},
     "output_type": "execute_result"
    },
    {
     "data": {
      "image/png": "[encoded data removed]",
      "text/plain": [
       "<Figure size 432x288 with 1 Axes>"
      ]
     },
     "metadata": {
      "needs_background": "light"
     },
     "output_type": "display_data"
    }
   ],
   "source": [
    "import matplotlib.pyplot as plt\n",
    "%matplotlib inline\n",
    "import numpy as np\n",
    "x = np.linspace(-5,5,500)\n",
    "y= np.tanh(x)\n",
    "plt.plot(x,y)\n",
    "deriv = np.diff(y)/np.diff(x)\n",
    "plt.plot(x[:499],deriv, 'r--')\n",
    "plt.title('Plot of the tanh and its derivative')\n",
    "plt.legend(['the function', 'the derivative'])"
   ]
  },
  {
   "cell_type": "markdown",
   "metadata": {},
   "source": [
    "## Tanh Pros and Cons\n",
    "\n",
    "Advantages:\n",
    "- Output is centered around 0 since its range is from -1 to 1 so optimization is easier than sigmoid.\n",
    "- Gradient stronger than sigmoid since steeper derivative values than sigmoid and convergence is faster than sigmoid because of this.\n",
    "\n",
    "Disadvantages:\n",
    "\n",
    "- Vanisihing gradient problem. The derivative is between 0 and 1 so can have small derivatives multiplied together creating the vanisihing gradient problem."
   ]
  },
  {
   "cell_type": "markdown",
   "metadata": {},
   "source": [
    "# RELU"
   ]
  },
  {
   "cell_type": "code",
   "execution_count": 4,
   "metadata": {},
   "outputs": [
    {
     "data": {
      "text/plain": [
       "<matplotlib.legend.Legend at 0x105b7acf8>"
      ]
     },
     "execution_count": 4,
     "metadata": {},
     "output_type": "execute_result"
    },
    {
     "data": {
      "image/png": "[encoded data removed]",
      "text/plain": [
       "<Figure size 432x288 with 1 Axes>"
      ]
     },
     "metadata": {
      "needs_background": "light"
     },
     "output_type": "display_data"
    }
   ],
   "source": [
    "# RELU\n",
    "x1 = np.linspace(-5,5,500)\n",
    "y1 = np.maximum(0,x1)\n",
    "plt.plot(x1,y1)\n",
    "deriv = np.diff(y1)/np.diff(x1)\n",
    "plt.plot(x1[:499],deriv, 'r--')\n",
    "plt.title('Plot of the ReLU and its derivative')\n",
    "plt.legend(['the function', 'the derivative'])\n"
   ]
  },
  {
   "cell_type": "markdown",
   "metadata": {},
   "source": [
    "## RELU Pros and Cons\n",
    "\n",
    "Advantages:\n",
    "\n",
    "- Avoids and fixes vanishing gradient problem.\n",
    "- Simpler and more efficient than tanh and sigmoid since simpler mathematical operations.\n",
    "- A lot better in convergence than tanh\"\n",
    "\n",
    "Disadvantages:\n",
    "\n",
    "- Only used in hidden layers of neural network model for classification problem poses linearty.\n",
    "- Suffers from \"dying ReLUs\", which is when during training some of the neurons die, which means the neurons stop outputting anything but 0. This happens because if a neuron's weights get updated where the weighted sum of the neuron's inputs are negative, it will start outputting 0 so the neuron is unlikely come back to life since the gradient of the ReLU function is 0 when the input is negative."
   ]
  },
  {
   "cell_type": "markdown",
   "metadata": {},
   "source": [
    "# Leaky RELU"
   ]
  },
  {
   "cell_type": "code",
   "execution_count": 6,
   "metadata": {},
   "outputs": [
    {
     "data": {
      "text/plain": [
       "<matplotlib.legend.Legend at 0x105d08ba8>"
      ]
     },
     "execution_count": 6,
     "metadata": {},
     "output_type": "execute_result"
    },
    {
     "data": {
      "image/png": "[encoded data removed]",
      "text/plain": [
       "<Figure size 432x288 with 1 Axes>"
      ]
     },
     "metadata": {
      "needs_background": "light"
     },
     "output_type": "display_data"
    }
   ],
   "source": [
    "# Leaky RELU\n",
    "x2 = np.linspace(-5,5,500)\n",
    "y2 = np.maximum(0.01*x2, x2)\n",
    "plt.plot(x2,y2)\n",
    "deriv = np.diff(y2)/np.diff(x2)\n",
    "plt.plot(x2[:499],deriv, 'r--')\n",
    "plt.title('Plot of the Leaky ReLU and its derivative')\n",
    "plt.legend(['the function', 'the derivative'])"
   ]
  },
  {
   "cell_type": "markdown",
   "metadata": {},
   "source": [
    "## Leaky RELU Pros and Cons\n",
    "\n",
    "Advantages:\n",
    "\n",
    "- Similiar to ReLU, so has similar advantages like avoiding and fixing vanishing gradient problem.\n",
    "- Fixes the \"dying ReLU\" problem as it introduces a small slope to keep the updates alive and ensures leaky ReLUs never die.\n",
    "\n",
    "Disadvantages:\n",
    "\n",
    "- Only used in hidden layers of neural network model for classification problem since poses linearty."
   ]
  },
  {
   "cell_type": "markdown",
   "metadata": {},
   "source": [
    "# Sigmoid"
   ]
  },
  {
   "cell_type": "code",
   "execution_count": 7,
   "metadata": {},
   "outputs": [
    {
     "data": {
      "text/plain": [
       "<matplotlib.legend.Legend at 0x105de5e48>"
      ]
     },
     "execution_count": 7,
     "metadata": {},
     "output_type": "execute_result"
    },
    {
     "data": {
      "image/png": "[encoded data removed]",
      "text/plain": [
       "<Figure size 432x288 with 1 Axes>"
      ]
     },
     "metadata": {
      "needs_background": "light"
     },
     "output_type": "display_data"
    }
   ],
   "source": [
    "# Sigmoid\n",
    "x3 = np.linspace(-5,5,500)\n",
    "y3 = 1/(1+np.exp(-x3))\n",
    "plt.plot(x3,y3)\n",
    "deriv = np.diff(y3)/np.diff(x3)\n",
    "plt.plot(x3[:499],deriv, 'r--')\n",
    "plt.title('Plot of the Sigmoid and its derivative')\n",
    "plt.legend(['the function', 'the derivative'])\n"
   ]
  },
  {
   "cell_type": "markdown",
   "metadata": {},
   "source": [
    "## Sigmoid Pros and Cons\n",
    "\n",
    "Advantages:\n",
    "\n",
    "- Non-linear and it is good for classification problems.\n",
    "- Easy to understand and apply.\n",
    "\n",
    "Disadvantages:\n",
    "\n",
    "- Vanisihing gradient problem. The derivative is between 0 and 0.25 so can have small derivatives multiplied together creating the vanisihing gradient problem.\n",
    "- Output is not centered around 0 so it makes gradient updates go too far in different directions. The output is between 0 and 1 so optimization is harder.\n",
    "- Saturate and kill gradients.\n",
    "- Slow convergence, because the updates will be small since the derivative is between 0 and 0.25."
   ]
  }
 ],
 "metadata": {
  "kernelspec": {
   "display_name": "Python 3",
   "language": "python",
   "name": "python3"
  },
  "language_info": {
   "codemirror_mode": {
    "name": "ipython",
    "version": 3
   },
   "file_extension": ".py",
   "mimetype": "text/x-python",
   "name": "python",
   "nbconvert_exporter": "python",
   "pygments_lexer": "ipython3",
   "version": "3.7.7"
  }
 },
 "nbformat": 4,
 "nbformat_minor": 4
}
